{
 "cells": [
  {
   "cell_type": "markdown",
   "metadata": {},
   "source": [
    "<center>\n",
    "    <img src=\"https://cf-courses-data.s3.us.cloud-object-storage.appdomain.cloud/IBMDeveloperSkillsNetwork-DS0105EN-SkillsNetwork/labs/Module2/images/SN_web_lightmode.png\" width=\"300\" alt=\"cognitiveclass.ai logo\">\n",
    "</center>\n"
   ]
  },
  {
   "cell_type": "markdown",
   "metadata": {},
   "source": [
    "#### Add your code below following the instructions given in the course\n"
   ]
  },
  {
   "cell_type": "markdown",
   "metadata": {
    "tags": []
   },
   "source": [
    "# MY JUPYTER NOTEBOOK"
   ]
  },
  {
   "cell_type": "raw",
   "metadata": {},
   "source": [
    "# Introduction - Assignment"
   ]
  },
  {
   "cell_type": "markdown",
   "metadata": {},
   "source": [
    " Data Science Languages\n",
    " 1. Python\n",
    " 2. SQL\n",
    " 3. Java\n",
    " 4. Scala\n",
    " 5. Julia\n",
    " 6. MATLAB\n",
    " 7. JavaScript\n",
    " 8. SAS\n",
    " 9. NumPy\n",
    " 10. Pandas"
   ]
  },
  {
   "cell_type": "markdown",
   "metadata": {},
   "source": [
    "# Objectives\n",
    "Unordered list\n",
    "- Bullet list\n",
    "- table list\n",
    "- hyperlink\n",
    "- libraries"
   ]
  },
  {
   "cell_type": "markdown",
   "metadata": {},
   "source": [
    "Data Science Libraries\n",
    "- Scikit-Learn\n",
    "- Tensor flow\n",
    "- PyTorch\n",
    "- Theano\n"
   ]
  },
  {
   "cell_type": "markdown",
   "metadata": {},
   "source": [
    "## Table of Data Science Tools\n",
    "* [RapidMiner]\n",
    "* [Apache spark]\n",
    "* [Tableau]\n",
    "* [TensorFlow]\n",
    "* [Apache Hadoop]\n",
    "        "
   ]
  },
  {
   "cell_type": "markdown",
   "metadata": {},
   "source": [
    "Introducing Arithmetic Expression Examples. \n",
    "1. An identifier described as a numeric elementary item (including numeric functions).\n",
    "2. A numeric literal\n",
    "3. The figurative constant ZERO\n",
    "4. Identifiers and literals, as defined in items 1, 2, and 3, separated by arithmetic operators\n",
    "5. Two arithmetic expressions, as defined in items 1, 2, 3, or 4, separated by an arithmetic operator\n",
    "6. An arithmetic expression, as defined in items 1, 2, 3, 4, or 5, enclosed in parentheses"
   ]
  },
  {
   "cell_type": "code",
   "execution_count": 10,
   "metadata": {},
   "outputs": [
    {
     "data": {
      "text/plain": [
       "17"
      ]
     },
     "execution_count": 10,
     "metadata": {},
     "output_type": "execute_result"
    }
   ],
   "source": [
    "#This a simple arithmetic expression to mutiply then add integers\n",
    "(3*4)+5"
   ]
  },
  {
   "cell_type": "code",
   "execution_count": 11,
   "metadata": {},
   "outputs": [
    {
     "name": "stdout",
     "output_type": "stream",
     "text": [
      "hours 3\n"
     ]
    }
   ],
   "source": [
    "#This will convert 200 minutes to hours by diving by 60\n",
    "minute=200\n",
    "hours=minute//60\n",
    "print(\"hours\",hours)\n"
   ]
  },
  {
   "cell_type": "markdown",
   "metadata": {},
   "source": [
    "## Author\n",
    "Pasuladhi Shireesha"
   ]
  },
  {
   "cell_type": "code",
   "execution_count": null,
   "metadata": {},
   "outputs": [],
   "source": []
  }
 ],
 "metadata": {
  "kernelspec": {
   "display_name": "Python",
   "language": "python",
   "name": "conda-env-python-py"
  },
  "language_info": {
   "codemirror_mode": {
    "name": "ipython",
    "version": 3
   },
   "file_extension": ".py",
   "mimetype": "text/x-python",
   "name": "python",
   "nbconvert_exporter": "python",
   "pygments_lexer": "ipython3",
   "version": "3.7.12"
  }
 },
 "nbformat": 4,
 "nbformat_minor": 4
}
